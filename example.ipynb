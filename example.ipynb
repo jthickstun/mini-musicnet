{
 "cells": [
  {
   "cell_type": "code",
   "execution_count": null,
   "metadata": {},
   "outputs": [],
   "source": [
    "import numpy as np\n",
    "import matplotlib.pyplot as plt\n",
    "\n",
    "from sklearn.metrics import precision_recall_curve\n",
    "from sklearn.metrics import average_precision_score"
   ]
  },
  {
   "cell_type": "code",
   "execution_count": null,
   "metadata": {},
   "outputs": [],
   "source": [
    "Xtrain = np.load('minimusic/audio-train.npy')\n",
    "Ytrain = np.load('minimusic/labels-train.npy')\n",
    "\n",
    "# A validation split is also provided.\n",
    "#Xvalid = np.load('minimusic/audio-valid.npy')\n",
    "#Yvalid = np.load('minimusic/labels-valid.npy')\n",
    "\n",
    "Xtest = np.load('minimusic/audio-test.npy')\n",
    "Ytest = np.load('minimusic/labels-test.npy')"
   ]
  },
  {
   "cell_type": "markdown",
   "metadata": {},
   "source": [
    "### Visualizing the data"
   ]
  },
  {
   "cell_type": "code",
   "execution_count": null,
   "metadata": {},
   "outputs": [],
   "source": [
    "fig, ax = plt.subplots(1, 2, figsize=(10,2))\n",
    "ax[0].set_title('Raw acoustic features')\n",
    "ax[0].plot(Xtrain[0])\n",
    "ax[1].set_title('Fourier transform of the raw features')\n",
    "ax[1].plot(np.abs(np.fft.rfft(Xtrain[0])[0:256])) # clip to 256 features for easier visualization"
   ]
  },
  {
   "cell_type": "markdown",
   "metadata": {},
   "source": [
    "### Raw feature ridge regression"
   ]
  },
  {
   "cell_type": "code",
   "execution_count": null,
   "metadata": {},
   "outputs": [],
   "source": [
    "R = .001\n",
    "beta = np.dot(np.linalg.inv(np.dot(Xtrain.T,Xtrain) + R*np.eye(Xtrain.shape[1])),np.dot(Xtrain.T,Ytrain))\n",
    "\n",
    "print('Train AP:', round(average_precision_score(Ytrain, np.dot(Xtrain, beta), average='micro'), 2))\n",
    "print('Test AP:', round(average_precision_score(Ytest, np.dot(Xtest, beta), average='micro'), 2))"
   ]
  },
  {
   "cell_type": "code",
   "execution_count": null,
   "metadata": {},
   "outputs": [],
   "source": [
    "def plot_pr_curve(ax, y, yhat):\n",
    "    precision,recall,_ = precision_recall_curve(y.ravel(), yhat.ravel())\n",
    "\n",
    "    step_kwargs = ({'step': 'post'})\n",
    "    ax.step(recall, precision, color='b', alpha=0.2, where='post')\n",
    "    ax.fill_between(recall, precision, alpha=0.2, color='b', **step_kwargs)\n",
    "    ax.grid(color='b', linestyle='--', linewidth=0.5, alpha=0.3)"
   ]
  },
  {
   "cell_type": "code",
   "execution_count": null,
   "metadata": {},
   "outputs": [],
   "source": [
    "fig, ax = plt.subplots(1, 2, figsize=(10,4))\n",
    "ax[0].set_title('Train P/R Curve')\n",
    "plot_pr_curve(ax[0], Ytrain, np.dot(Xtrain, beta))\n",
    "ax[1].set_title('Test P/R Curve')\n",
    "plot_pr_curve(ax[1], Ytest, np.dot(Xtest, beta))"
   ]
  },
  {
   "cell_type": "markdown",
   "metadata": {},
   "source": [
    "### Fourier feature ridge regression"
   ]
  },
  {
   "cell_type": "code",
   "execution_count": null,
   "metadata": {},
   "outputs": [],
   "source": [
    "Xtrainfft = np.abs(np.fft.rfft(Xtrain))\n",
    "Xtestfft = np.abs(np.fft.rfft(Xtest))\n",
    "\n",
    "lamda = .001\n",
    "beta = np.dot(np.linalg.inv(np.dot(Xtrainfft.T,Xtrainfft) + lamda*np.eye(Xtrainfft.shape[1])),np.dot(Xtrainfft.T,Ytrain))\n",
    "\n",
    "print('Train AP:', round(average_precision_score(Ytrain, np.dot(Xtrainfft, beta), average='micro'), 2))\n",
    "print('Test AP:', round(average_precision_score(Ytest, np.dot(Xtestfft, beta), average='micro'), 2))"
   ]
  },
  {
   "cell_type": "code",
   "execution_count": null,
   "metadata": {},
   "outputs": [],
   "source": [
    "fig, ax = plt.subplots(1, 2, figsize=(10,4))\n",
    "ax[0].set_title('Train P/R Curve')\n",
    "plot_pr_curve(ax[0], Ytrain, np.dot(Xtrainfft, beta))\n",
    "ax[1].set_title('Test P/R Curve')\n",
    "plot_pr_curve(ax[1], Ytest, np.dot(Xtestfft, beta))"
   ]
  },
  {
   "cell_type": "code",
   "execution_count": null,
   "metadata": {},
   "outputs": [],
   "source": []
  }
 ],
 "metadata": {
  "kernelspec": {
   "display_name": "Python 3",
   "language": "python",
   "name": "python3"
  },
  "language_info": {
   "codemirror_mode": {
    "name": "ipython",
    "version": 3
   },
   "file_extension": ".py",
   "mimetype": "text/x-python",
   "name": "python",
   "nbconvert_exporter": "python",
   "pygments_lexer": "ipython3",
   "version": "3.7.10"
  }
 },
 "nbformat": 4,
 "nbformat_minor": 2
}
